{
 "cells": [
  {
   "cell_type": "code",
   "execution_count": null,
   "metadata": {
    "id": "vEMQXCZfufO7"
   },
   "outputs": [],
   "source": [
    "import numpy as np # linear algebra\n",
    "import pandas as pd # data processing, CSV file I/O (e.g. pd.read_csv)\n",
    "import skimage, os\n",
    "from skimage.morphology import ball, disk, dilation, binary_erosion, remove_small_objects, erosion, closing, reconstruction, binary_closing\n",
    "from skimage.measure import label,regionprops, perimeter\n",
    "from skimage.morphology import binary_dilation, binary_opening\n",
    "from skimage.filters import roberts, sobel\n",
    "from skimage import measure, feature\n",
    "from skimage.segmentation import clear_border\n",
    "from skimage import data\n",
    "from scipy import ndimage as ndi\n",
    "import matplotlib.pyplot as plt\n",
    "from mpl_toolkits.mplot3d.art3d import Poly3DCollection\n",
    "import scipy.misc\n",
    "import numpy as np\n",
    "from glob import glob\n",
    "from skimage.io import imread\n",
    "import re\n",
    "\n",
    "pd.set_option('display.max_rows', 500)\n",
    "pd.set_option('display.max_columns', 500)\n",
    "pd.set_option('display.width', 1000)\n",
    "\n",
    "import warnings\n",
    "warnings.filterwarnings(\"ignore\")\n",
    "\n",
    "import matplotlib.pyplot as plt\n",
    "from matplotlib import cm\n",
    "import matplotlib.animation as anim\n",
    "\n",
    "import imageio\n",
    "from skimage.transform import resize\n",
    "\n",
    "import copy\n",
    "from scipy import ndimage as nd\n",
    "import itertools\n",
    "import cv2"
   ]
  },
  {
   "cell_type": "code",
   "execution_count": null,
   "metadata": {
    "colab": {
     "base_uri": "https://localhost:8080/"
    },
    "id": "pakGOPtgu2J3",
    "outputId": "3b417627-d29c-474f-c634-9278ef5d188c"
   },
   "outputs": [
    {
     "data": {
      "text/plain": [
       "(104, 104, 104)"
      ]
     },
     "execution_count": 4,
     "metadata": {},
     "output_type": "execute_result"
    }
   ],
   "source": [
    "all_images = glob(os.path.join('/content/drive/MyDrive/Data/guangdi_1/Hospital B','*.nii.gz'))\n",
    "all_masks = glob(os.path.join('/content/drive/MyDrive/Data/guangdi_1/mask_B','*.nii.gz'))\n",
    "df = pd.read_excel('/content/drive/MyDrive/Data/guangdi_1/clinic.xlsx', sheet_name='Hospital B')\n",
    "len(all_images), len(all_masks), df.shape[0]"
   ]
  },
  {
   "cell_type": "code",
   "execution_count": 1,
   "metadata": {
    "colab": {
     "base_uri": "https://localhost:8080/",
     "height": 204
    },
    "id": "FIx9NNP-OHz_",
    "outputId": "a78cd34f-a444-4de8-82d2-b02204562bc3"
   },
   "outputs": [],
   "source": [
    "df.head()"
   ]
  },
  {
   "cell_type": "code",
   "execution_count": null,
   "metadata": {
    "id": "5joqyBSMxXXN"
   },
   "outputs": [],
   "source": [
    "def match_img_mask(row):\n",
    "  img_path = np.nan\n",
    "  mask_path = np.nan\n",
    "  name = '_'.join(row['缩写'].strip().upper().split(' '))\n",
    "\n",
    "  for img in all_images:\n",
    "    org_img = img\n",
    "    img = img.split('/')[-1]\n",
    "    f_i = re.search(r\"\\d\", img).start()\n",
    "    cur_name = img[: f_i-1]\n",
    "    if name == cur_name:\n",
    "      img_path = org_img\n",
    "      break\n",
    "  \n",
    "  for mask in all_masks:\n",
    "    org_mask = mask\n",
    "    mask = mask.split('/')[-1]\n",
    "    f_i = re.search(r\"\\d\", mask).start()\n",
    "    cur_name = mask[: f_i-1]\n",
    "    if name == cur_name:\n",
    "      mask_path = org_mask\n",
    "      break\n",
    "\n",
    "  return pd.Series([img_path, mask_path])"
   ]
  },
  {
   "cell_type": "code",
   "execution_count": null,
   "metadata": {
    "id": "v9QMK5WsvHL7"
   },
   "outputs": [],
   "source": [
    "df[['img_path', 'mask_path']] = df.apply(match_img_mask, axis=1)"
   ]
  },
  {
   "cell_type": "code",
   "execution_count": 2,
   "metadata": {
    "colab": {
     "base_uri": "https://localhost:8080/"
    },
    "id": "NvjidNM025eE",
    "outputId": "71180298-13ea-4f35-ab94-370063b197bc"
   },
   "outputs": [],
   "source": [
    "show_ids = np.random.randint(df.shape[0])\n",
    "print(df.iloc[show_ids]['缩写'])\n",
    "# print(df.iloc[show_ids]['IDx'])\n",
    "print(df.iloc[show_ids]['img_path'])\n",
    "print(df.iloc[show_ids]['mask_path'])"
   ]
  },
  {
   "cell_type": "code",
   "execution_count": null,
   "metadata": {
    "colab": {
     "base_uri": "https://localhost:8080/"
    },
    "id": "GPuGp24hD2Gg",
    "outputId": "f9415ab3-fd7c-44f4-ccc1-4f57f1f1c4ae"
   },
   "outputs": [
    {
     "name": "stdout",
     "output_type": "stream",
     "text": [
      "(2, 18)\n"
     ]
    }
   ],
   "source": [
    "print(df[(df['img_path'].isna()) | (df['mask_path'].isna())].shape)\n",
    "# df[(df['img_path'].isna()) | (df['mask_path'].isna())].to_csv('B_not_match.csv', index=False)"
   ]
  },
  {
   "cell_type": "code",
   "execution_count": null,
   "metadata": {
    "id": "T5GZ11m7PC_g"
   },
   "outputs": [],
   "source": [
    "df = df.dropna().reset_index()"
   ]
  },
  {
   "cell_type": "code",
   "execution_count": 3,
   "metadata": {
    "colab": {
     "base_uri": "https://localhost:8080/",
     "height": 456
    },
    "id": "otmxa8y0PG83",
    "outputId": "aa6a4b9b-c293-4850-8c16-08c749da25dc"
   },
   "outputs": [],
   "source": [
    "%matplotlib inline\n",
    "try:\n",
    "    import nibabel as nib\n",
    "except:\n",
    "    raise ImportError('Install NIBABEL')\n",
    "\n",
    "show_ids = np.random.randint(df.shape[0])\n",
    "\n",
    "img_p = df['img_path'][show_ids]\n",
    "mask_p = df['mask_path'][show_ids]\n",
    "print(f'image path: {img_p}')\n",
    "print(f'mask path: {mask_p}')\n",
    "\n",
    "test_image = nib.load(img_p).get_fdata()\n",
    "test_mask = nib.load(mask_p).get_fdata()\n",
    "print(test_image.shape, test_mask.shape)\n",
    "\n",
    "\n",
    "fig, (ax1, ax2) = plt.subplots(1,2, figsize = (12, 6))\n",
    "extract_no = 12\n",
    "ax1.imshow(test_image[:, :, test_image.shape[2] // 2])\n",
    "ax1.set_title('Image')\n",
    "ax2.imshow(test_mask[:, :, test_mask.shape[2] // 2])\n",
    "ax2.set_title('Mask')\n",
    "print(np.unique(test_mask))"
   ]
  },
  {
   "cell_type": "code",
   "execution_count": null,
   "metadata": {
    "colab": {
     "base_uri": "https://localhost:8080/"
    },
    "id": "5JIPh73tBvmx",
    "outputId": "9c687688-4142-49e0-fb9a-5dd008375cfc"
   },
   "outputs": [
    {
     "name": "stdout",
     "output_type": "stream",
     "text": [
      "(38, 45, 8)\n"
     ]
    }
   ],
   "source": [
    "def mask_image(image_p, mask_p, mask_id):\n",
    "  image = copy.deepcopy(image_p)\n",
    "  mask = copy.deepcopy(mask_p)\n",
    "  assert image.shape == mask.shape, f'image shape {image.shape} not match mask shape {mask.shape}'\n",
    "\n",
    "  d1 = mask.shape[0]\n",
    "  d2 = mask.shape[1]\n",
    "  d3 = mask.shape[2]\n",
    "\n",
    "  # 将非mask的部分置黑\n",
    "  mask_image = []\n",
    "  for i in range(d3):\n",
    "    cur_slice = image[:, :, i]\n",
    "    cur_mask = mask[:, :, i]\n",
    "\n",
    "    for a in range(d1):\n",
    "      for b in range(d2):\n",
    "        if cur_mask[a, b] != mask_id:\n",
    "          cur_slice[a, b] = 0\n",
    "    mask_image.append(cur_slice)\n",
    "  return np.array(mask_image).transpose(1, 2, 0)\n",
    "\n",
    "# masked_image = mask_image(test_image, test_mask, 3)\n",
    "# print(masked_image.shape, test_mask.shape)\n",
    "\n",
    "def FindLabelBox3D(img, offset):\n",
    "    '''\n",
    "    img:ct-label-data\n",
    "    offset:copy-level\n",
    "    '''\n",
    "    xdim = np.zeros(2)  # bouding box 和 x轴的交点\n",
    "    ydim = np.zeros(2)  # bouding box 和 y轴的交点\n",
    "    zdim = np.zeros(2)  # bouding box 和 z轴的交点\n",
    "    tmp = np.squeeze(np.sum(np.sum(img, axis=2), axis=1))\n",
    "    for i in range(len(tmp)):\n",
    "        if tmp[i] == 0:\n",
    "            xdim[0] = i\n",
    "        else:\n",
    "            break\n",
    "    xdim[1] = len(tmp)\n",
    "    for i in reversed(range(len(tmp))):\n",
    "        if tmp[i] == 0:\n",
    "            xdim[1] = i\n",
    "        else:\n",
    "            break\n",
    "    # for y\n",
    "    tmp = np.squeeze(np.sum(np.sum(img, axis=2), axis=0))\n",
    "    for i in range(len(tmp)):\n",
    "        if tmp[i] == 0:\n",
    "            ydim[0] = i\n",
    "        else:\n",
    "            break\n",
    " \n",
    "    ydim[1] = len(tmp)\n",
    "    for i in reversed(range(len(tmp))):\n",
    "        if tmp[i] == 0:\n",
    "            ydim[1] = i\n",
    "        else:\n",
    "            break\n",
    "    # for z\n",
    "    tmp = np.squeeze(np.sum(np.sum(img, axis=1), axis=0))\n",
    "    for i in range(len(tmp)):\n",
    "        if tmp[i] == 0:\n",
    "            zdim[0] = i\n",
    "        else:\n",
    "            break\n",
    " \n",
    "    zdim[1] = len(tmp)\n",
    "    for i in reversed(range(len(tmp))):\n",
    "        if tmp[i] == 0:\n",
    "            zdim[1] = i\n",
    "        else:\n",
    "            break\n",
    " \n",
    "    # offset\n",
    "    xdim[0] = max(0, xdim[0] - offset)\n",
    "    xdim[1] = min(np.size(img, 0), xdim[1] + offset)\n",
    " \n",
    "    ydim[0] = max(0, ydim[0] - offset)\n",
    "    ydim[1] = min(np.size(img, 1), ydim[1] + offset)\n",
    " \n",
    "    zdim[0] = max(0, zdim[0] - offset)\n",
    "    zdim[1] = min(np.size(img, 2), zdim[1] + offset)\n",
    " \n",
    "    return xdim, ydim, zdim\n",
    "\n",
    "def get_mask_roi(image_p, mask_p, mask_id):\n",
    "  image = copy.deepcopy(image_p)\n",
    "  mask = copy.deepcopy(mask_p)\n",
    "  image = mask_image(image, mask, mask_id)\n",
    "  xdim, ydim, zdim = FindLabelBox3D(mask, mask_id)\n",
    "  return image[int(xdim[0]):int(xdim[1]), int(ydim[0]):int(ydim[1]), int(zdim[0]):int(zdim[1])]\n",
    "\n",
    "masked_image = get_mask_roi(test_image, test_mask, 1)\n",
    "print(masked_image.shape)"
   ]
  },
  {
   "cell_type": "code",
   "execution_count": null,
   "metadata": {
    "colab": {
     "base_uri": "https://localhost:8080/"
    },
    "id": "shHIyM432GZk",
    "outputId": "fce3e067-0790-44d5-908c-ffb9c201e5d8"
   },
   "outputs": [
    {
     "name": "stdout",
     "output_type": "stream",
     "text": [
      "(128, 128, 32) 53075.75241277364\n"
     ]
    }
   ],
   "source": [
    "def resize_volume(image_p):\n",
    "    img = copy.deepcopy(image_p)\n",
    "    \"\"\"Resize across z-axis\"\"\"\n",
    "    # Set the desired depth\n",
    "    desired_depth = 32\n",
    "    desired_width = 128\n",
    "    desired_height = 128\n",
    "    z_ids = np.linspace(0, img.shape[2]-1, desired_depth)\n",
    "    z_ids = list(map(lambda x: int(x), z_ids))\n",
    "    img3d = np.stack([cv2.resize(img[:, :, i], (desired_width, desired_height)) for i in z_ids]).T\n",
    "    if np.min(img3d) < np.max(img3d):\n",
    "      img3d = img3d - np.min(img3d)\n",
    "      img3d = img3d / np.max(img3d)\n",
    "    if img3d.shape[-1] < desired_depth:\n",
    "      n_zero = np.zeros((desired_height, desired_width, desired_depth - img3d.shape[-1]))\n",
    "      img3d = np.concatenate((img3d,  n_zero), axis = -1)\n",
    "    return img3d\n",
    "\n",
    "resize_image = resize_volume(masked_image)\n",
    "print(resize_image.shape, np.sum(resize_image))"
   ]
  },
  {
   "cell_type": "code",
   "execution_count": null,
   "metadata": {
    "colab": {
     "base_uri": "https://localhost:8080/",
     "height": 278
    },
    "id": "2qXxpTSR0ZkB",
    "outputId": "02b9858a-331a-4f8b-b1aa-496d00ce7687"
   },
   "outputs": [
    {
     "data": {
      "text/plain": [
       "Text(0.5, 1.0, 'Mask')"
      ]
     },
     "execution_count": 14,
     "metadata": {},
     "output_type": "execute_result"
    },
    {
     "data": {
       "text/plain": [
       "<Figure size 864x432 with 3 Axes>"
      ]
     },
     "metadata": {
      "needs_background": "light"
     },
     "output_type": "display_data"
    }
   ],
   "source": [
    "fig, (ax1, ax2, ax3) = plt.subplots(1,3, figsize = (12, 6))\n",
    "extract_no = 12\n",
    "ax1.imshow(masked_image[:, :, masked_image.shape[2] // 2])\n",
    "ax1.set_title('Image')\n",
    "ax2.imshow(resize_image[:, :, resize_image.shape[2] // 2])\n",
    "ax2.set_title('Resize Image')\n",
    "ax3.imshow(test_mask[:, :, extract_no])\n",
    "ax3.set_title('Mask')"
   ]
  },
  {
   "cell_type": "code",
   "execution_count": null,
   "metadata": {
    "colab": {
     "base_uri": "https://localhost:8080/"
    },
    "id": "CbhsvARbKBIm",
    "outputId": "d6ea65e1-7391-4395-fee1-10d72988992f"
   },
   "outputs": [
    {
     "name": "stdout",
     "output_type": "stream",
     "text": [
     
     ]
    }
   ],
   "source": [
    "from pathlib import Path\n",
    "res_folder = './masked/'\n",
    "Path(res_folder).mkdir(parents=True, exist_ok=True)\n",
    "\n",
    "def extract_mask_ids(mask):\n",
    "  mask_ids = []\n",
    "  for i in range(mask.shape[2]):\n",
    "    mask_ids += list(np.unique(mask[:, :, i]))\n",
    "  return list(set(mask_ids))\n",
    "\n",
    "ignore_cnt = 0\n",
    "except_cnt = 0\n",
    "\n",
    "\n",
    "for index, row in df.iterrows():\n",
    "  print(f'Processing {index + 1}th patient')\n",
    "  name = row['缩写']\n",
    "  image_path = row['img_path']\n",
    "  mask_path = row['mask_path']\n",
    "  image = nib.load(image_path).get_fdata()\n",
    "  mask = nib.load(mask_path).get_fdata()\n",
    "\n",
    "  labels = extract_mask_ids(mask)\n",
    "  print(labels)\n",
    "\n",
    "  for label in labels:\n",
    "    if label == 0:\n",
    "      continue\n",
    "    try:\n",
    "      print(f'label {label}...')\n",
    "      masked_image = get_mask_roi(image, mask, label)\n",
    "      masked_image = resize_volume(masked_image)\n",
    "      if np.sum(masked_image) == 0:\n",
    "        print('No valid image from mask, ignore!')\n",
    "        ignore_cnt += 1\n",
    "        continue\n",
    "      print(f'{name}_{label}_{masked_image.shape}')\n",
    "      nib_file = nib.Nifti1Image(masked_image, np.eye(4)) \n",
    "      file_name = f'./masked/{name}_{label}.nii.gz'\n",
    "      nib.save(nib_file, file_name) \n",
    "    except Exception as e:\n",
    "      print(e)\n",
    "      except_cnt += 1\n",
    "print(f'invalid image is {ignore_cnt}')\n",
    "print(f'exception image is {except_cnt}')"
   ]
  },
  {
   "cell_type": "code",
   "execution_count": null,
   "metadata": {
    "id": "XNmEFiAWTtLn"
   },
   "outputs": [],
   "source": [
    "!cp ./masked/* /content/drive/MyDrive/Data/guangdi_1/Ex_Mask_B/"
   ]
  },
  {
   "cell_type": "code",
   "execution_count": null,
   "metadata": {
    "colab": {
     "base_uri": "https://localhost:8080/"
    },
    "id": "oHdGaRpYvSW6",
    "outputId": "b439f7f2-5475-4f28-f795-e6efd724bcf2"
   },
   "outputs": [
    {
     "name": "stdout",
     "output_type": "stream",
     "text": [
      "rm: cannot remove './masked/*': No such file or directory\n"
     ]
    }
   ],
   "source": [
    "# !rm ./masked/*"
   ]
  },
  {
   "cell_type": "code",
   "execution_count": null,
   "metadata": {
    "id": "MDuCc9Y1vV-K"
   },
   "outputs": [],
   "source": [
    "label_file = glob('./masked/*')\n",
    "e_label = set()\n",
    "for file in label_file:\n",
    "  if file.split('/')[-1].split('_')[-1].split('.')[0] not in ['1', '2', '3']:\n",
    "    e_label.add(file.split('/')[-1].split('.')[0])"
   ]
  },
  {
   "cell_type": "code",
   "execution_count": null,
   "metadata": {
    "colab": {
     "base_uri": "https://localhost:8080/",
     "height": 49
    },
    "id": "VpYQ_ofeHcup",
    "outputId": "6fbd62e7-f829-4e17-df1a-119da4eb8294"
   },
   "outputs": [
    {
     "data": {
      "text/html": [
       "<div>\n",
       "<style scoped>\n",
       "    .dataframe tbody tr th:only-of-type {\n",
       "        vertical-align: middle;\n",
       "    }\n",
       "\n",
       "    .dataframe tbody tr th {\n",
       "        vertical-align: top;\n",
       "    }\n",
       "\n",
       "    .dataframe thead th {\n",
       "        text-align: right;\n",
       "    }\n",
       "</style>\n",
       "<table border=\"1\" class=\"dataframe\">\n",
       "  <thead>\n",
       "    <tr style=\"text-align: right;\">\n",
       "      <th></th>\n",
       "      <th>name</th>\n",
       "      <th>unexpected mask label</th>\n",
       "    </tr>\n",
       "  </thead>\n",
       "  <tbody>\n",
       "  </tbody>\n",
       "</table>\n",
       "</div>"
      ],
      "text/plain": [
       "Empty DataFrame\n",
       "Columns: [name, unexpected mask label]\n",
       "Index: []"
      ]
     },
     "execution_count": 194,
     "metadata": {},
     "output_type": "execute_result"
    }
   ],
   "source": [
    "data = []\n",
    "for p in list(e_label):\n",
    "  data.append(p.split('_'))\n",
    "\n",
    "e_df = pd.DataFrame(data, columns=['name', 'unexpected mask label'])\n",
    "e_df"
   ]
  },
  {
   "cell_type": "code",
   "execution_count": null,
   "metadata": {
    "id": "3Hd3ijZgH_nU"
   },
   "outputs": [],
   "source": [
    "e_df.to_csv('unexpected_mask.csv', index=False)"
   ]
  }
 ],
 "metadata": {
  "colab": {
   "name": "guangdi_mask_extract.ipynb",
   "provenance": []
  },
  "kernelspec": {
   "display_name": "Python 3",
   "language": "python",
   "name": "python3"
  },
  "language_info": {
   "codemirror_mode": {
    "name": "ipython",
    "version": 3
   },
   "file_extension": ".py",
   "mimetype": "text/x-python",
   "name": "python",
   "nbconvert_exporter": "python",
   "pygments_lexer": "ipython3",
   "version": "3.7.0"
  },
  "toc": {
   "base_numbering": 1,
   "nav_menu": {},
   "number_sections": true,
   "sideBar": true,
   "skip_h1_title": false,
   "title_cell": "Table of Contents",
   "title_sidebar": "Contents",
   "toc_cell": false,
   "toc_position": {},
   "toc_section_display": true,
   "toc_window_display": false
  }
 },
 "nbformat": 4,
 "nbformat_minor": 1
}
